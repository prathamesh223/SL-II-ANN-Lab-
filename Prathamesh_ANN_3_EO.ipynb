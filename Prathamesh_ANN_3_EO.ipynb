{
 "cells": [
  {
   "cell_type": "code",
   "execution_count": 19,
   "id": "9e005524-0f2b-4e4d-ad06-f3b1238cec49",
   "metadata": {},
   "outputs": [],
   "source": [
    "import numpy as np"
   ]
  },
  {
   "cell_type": "code",
   "execution_count": 55,
   "id": "bfa99d15",
   "metadata": {},
   "outputs": [],
   "source": [
    "# weights=np.random.random(8)\n",
    "# bias = np.random.random(1)\n",
    "# learning_rate=0.1\n",
    "# threshold=2.5\n",
    "# epochs=100"
   ]
  },
  {
   "cell_type": "code",
   "execution_count": 67,
   "id": "93cd5243",
   "metadata": {},
   "outputs": [],
   "source": [
    "ws=np.random.random(8)\n",
    "b=np.random.random(1)\n",
    "lr=0.1\n",
    "T=3.5\n",
    "es=100"
   ]
  },
  {
   "cell_type": "code",
   "execution_count": 68,
   "id": "af70a2be",
   "metadata": {},
   "outputs": [],
   "source": [
    "# def conversion(input_num):\n",
    "#     ascii_value=ord(str(input_num))\n",
    "#     binary_form=np.binary_repr(ascii_value,width=8)\n",
    "#     x=[]\n",
    "#     x=np.zeros(8,dtype=int)\n",
    "#     for i in range(8):\n",
    "#         x[i]=int(binary_form[i])\n",
    "#     return x"
   ]
  },
  {
   "cell_type": "code",
   "execution_count": 69,
   "id": "13abe834",
   "metadata": {},
   "outputs": [],
   "source": [
    "def conv(i_n):\n",
    "    a_v=ord(str(i_n))\n",
    "    b_f=np.binary_repr(a_v,width=8)\n",
    "    x=[]\n",
    "    x=np.zeros(8,dtype=int)\n",
    "    for i in range(8):\n",
    "        x[i]=b_f[i]\n",
    "    return x"
   ]
  },
  {
   "cell_type": "code",
   "execution_count": 70,
   "id": "aad3088e",
   "metadata": {},
   "outputs": [],
   "source": [
    "# def step_function(weighted_sum):\n",
    "#     if weighted_sum > threshold:\n",
    "#         return 1 # Representing Odd number\n",
    "#     else:\n",
    "#         return 0 # Representing Even Number \n",
    "# def perceptron(x):\n",
    "#     weighted_sum=np.dot(x,weights) + bias \n",
    "#     return step_function(weighted_sum)\n",
    "# def train_perceptron(input_num,target):\n",
    "#     global weights,bias\n",
    "#     x=conversion(input_num)\n",
    "#     output=perceptron(x)\n",
    "#     error=target - output\n",
    "#     weights+=learning_rate*error*input_num\n",
    "#     bias+=learning_rate*error"
   ]
  },
  {
   "cell_type": "code",
   "execution_count": 78,
   "id": "9322e24a",
   "metadata": {},
   "outputs": [],
   "source": [
    "def s_f(w_S):\n",
    "    global T\n",
    "    if w_S > T:\n",
    "        return 1 # Representing odd number \n",
    "    else:\n",
    "        return 0 # Representing even number \n",
    "def  perceptron(x):\n",
    "    w_s=np.dot(ws,x) + b\n",
    "    return s_f(w_s)\n",
    "def train(i_n,t):\n",
    "    global ws,b,lr\n",
    "    x=conv(i_n)\n",
    "    output=perceptron(x)\n",
    "    error=output-t\n",
    "    ws+=lr*error*i_n\n",
    "    b+=lr*error\n"
   ]
  },
  {
   "cell_type": "code",
   "execution_count": 79,
   "id": "9015c4b9",
   "metadata": {},
   "outputs": [],
   "source": [
    "# training_data=[(4,0),(2,0),(5,1),(6,0),(7,1),(8,0),(9,1),(1,1)]\n",
    "\n",
    "# for epoch in range(epochs):\n",
    "#     errors=0\n",
    "#     for input_num,target in training_data:\n",
    "#         output=perceptron(conversion(input_num))\n",
    "#         if output != target :\n",
    "#             train_perceptron(input_num,target)\n",
    "#             errors+=1\n",
    "#         #Check if there is no errors in this epoch\n",
    "#     if errors == 0:\n",
    "#         print(f'Training Converged After {epoch+1} epochs')\n",
    "#         break   \n",
    "\n"
   ]
  },
  {
   "cell_type": "code",
   "execution_count": 80,
   "id": "30bbde7c",
   "metadata": {},
   "outputs": [],
   "source": [
    "t_d=[(1,1),(2,0),(4,0),(7,1),(6,0),(9,1)]\n",
    "for e in range(es):\n",
    "    error=0\n",
    "    for i_n,t in t_d:\n",
    "        output=perceptron(conv(i_n))\n",
    "        if output!= t:\n",
    "            train(i_n,t)\n",
    "        error+=1\n",
    "    if error == 0:\n",
    "        print(f\"Training Converged After {e+1} epochs\")\n",
    "        break"
   ]
  },
  {
   "cell_type": "code",
   "execution_count": 83,
   "id": "f05901bc",
   "metadata": {},
   "outputs": [
    {
     "name": "stdout",
     "output_type": "stream",
     "text": [
      "Given Number : 9\n",
      "Ascci Value of the given number : 57\n",
      "Binary representation of the ascii value : [0 0 1 1 1 0 0 1]\n",
      "The given number is even\n"
     ]
    }
   ],
   "source": [
    "num=int(input(\"Enter the number :\"))\n",
    "print(\"Given Number :\",num)\n",
    "print(\"Ascci Value of the given number :\",ord(str(num)))\n",
    "print(\"Binary representation of the ascii value :\",conv(num))\n",
    "op=perceptron(conv(num))\n",
    "if op==1 :\n",
    "    print(\"The given number is odd\")\n",
    "else:\n",
    "    print(\"The given number is even\")"
   ]
  },
  {
   "cell_type": "code",
   "execution_count": null,
   "id": "e7e12982",
   "metadata": {},
   "outputs": [],
   "source": []
  },
  {
   "cell_type": "code",
   "execution_count": 9,
   "id": "e2152468",
   "metadata": {},
   "outputs": [
    {
     "name": "stdout",
     "output_type": "stream",
     "text": [
      "Binary representation of the ascii value : [0 0 1 1 0 1 0 0]\n"
     ]
    }
   ],
   "source": []
  },
  {
   "cell_type": "code",
   "execution_count": 10,
   "id": "bbff20ca",
   "metadata": {},
   "outputs": [],
   "source": []
  },
  {
   "cell_type": "code",
   "execution_count": 11,
   "id": "0abb1391",
   "metadata": {},
   "outputs": [
    {
     "name": "stdout",
     "output_type": "stream",
     "text": [
      "The given number is even\n"
     ]
    }
   ],
   "source": []
  },
  {
   "cell_type": "code",
   "execution_count": null,
   "id": "191fa08c",
   "metadata": {},
   "outputs": [],
   "source": []
  },
  {
   "cell_type": "code",
   "execution_count": null,
   "id": "89f6d6c8",
   "metadata": {},
   "outputs": [],
   "source": []
  },
  {
   "cell_type": "code",
   "execution_count": null,
   "id": "8bc6b3b6",
   "metadata": {},
   "outputs": [],
   "source": []
  }
 ],
 "metadata": {
  "kernelspec": {
   "display_name": "Python 3 (ipykernel)",
   "language": "python",
   "name": "python3"
  },
  "language_info": {
   "codemirror_mode": {
    "name": "ipython",
    "version": 3
   },
   "file_extension": ".py",
   "mimetype": "text/x-python",
   "name": "python",
   "nbconvert_exporter": "python",
   "pygments_lexer": "ipython3",
   "version": "3.11.7"
  }
 },
 "nbformat": 4,
 "nbformat_minor": 5
}
