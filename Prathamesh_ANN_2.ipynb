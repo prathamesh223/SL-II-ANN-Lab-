{
 "cells": [
  {
   "cell_type": "code",
   "execution_count": 1,
   "metadata": {},
   "outputs": [],
   "source": [
    "import numpy as np"
   ]
  },
  {
   "cell_type": "code",
   "execution_count": 2,
   "metadata": {},
   "outputs": [],
   "source": [
    "X1=[0,0,1,1]\n",
    "X2=[0,1,0,1]\n",
    "\n",
    "W1=1\n",
    "W2=1\n",
    "T=0.8\n"
   ]
  },
  {
   "cell_type": "code",
   "execution_count": 3,
   "metadata": {},
   "outputs": [],
   "source": [
    "def McullochPits(X1,X2,W1,W2,T):\n",
    "    andgate=[]#store the results of applying the AND gate operation.\n",
    "    for i in range(len(X1)):\n",
    "        WtX=X1[i]*W1 + X2[i]*W2\n",
    "        activation= 1/(1+np.exp(-WtX))\n",
    "        if(activation > T):\n",
    "            andgate.append(1)\n",
    "        else:\n",
    "            andgate.append(0)\n",
    "    ngate=[]#This list will store the results of negating the andg list.\n",
    "    for i in range(len(andgate)):\n",
    "        if andgate[i]==1 :\n",
    "            ngate.append(0)\n",
    "        else:\n",
    "            ngate.append(1)\n",
    "    return ngate"
   ]
  },
  {
   "cell_type": "code",
   "execution_count": 4,
   "metadata": {},
   "outputs": [],
   "source": [
    "# McullochPits(X1,X2,W1,W2,T)"
   ]
  },
  {
   "cell_type": "code",
   "execution_count": 5,
   "metadata": {},
   "outputs": [],
   "source": [
    "def Mcullochpits(X1,X2,W1,W2,T):\n",
    "    andgate=[]\n",
    "    for i in range(len(X1)):\n",
    "        WtX=X1[i]*W1 + X2[i]*W2\n",
    "        activation_fun=1/(1+np.exp(-WtX))\n",
    "        \n",
    "        if activation_fun > T:\n",
    "            andgate.append(1)\n",
    "        else:\n",
    "            andgate.append(0)\n",
    "    notgate=[]\n",
    "    for i in range(len(andgate)):\n",
    "        if andgate[i]==1 :\n",
    "            notgate.append(0)\n",
    "        else:\n",
    "            notgate.append(1)\n",
    "    return andgate"
   ]
  },
  {
   "cell_type": "code",
   "execution_count": 6,
   "metadata": {},
   "outputs": [
    {
     "data": {
      "text/plain": [
       "[0, 0, 0, 1]"
      ]
     },
     "execution_count": 6,
     "metadata": {},
     "output_type": "execute_result"
    }
   ],
   "source": [
    "Mcullochpits(X1,X2,W1,W2,T)"
   ]
  },
  {
   "cell_type": "code",
   "execution_count": null,
   "metadata": {},
   "outputs": [],
   "source": []
  },
  {
   "cell_type": "code",
   "execution_count": null,
   "metadata": {},
   "outputs": [],
   "source": []
  }
 ],
 "metadata": {
  "kernelspec": {
   "display_name": "base",
   "language": "python",
   "name": "python3"
  },
  "language_info": {
   "codemirror_mode": {
    "name": "ipython",
    "version": 3
   },
   "file_extension": ".py",
   "mimetype": "text/x-python",
   "name": "python",
   "nbconvert_exporter": "python",
   "pygments_lexer": "ipython3",
   "version": "3.11.7"
  }
 },
 "nbformat": 4,
 "nbformat_minor": 2
}
