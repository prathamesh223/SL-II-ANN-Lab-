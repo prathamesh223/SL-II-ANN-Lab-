{
 "cells": [
  {
   "cell_type": "code",
   "execution_count": 1,
   "metadata": {},
   "outputs": [],
   "source": [
    "def train(inputs,b,t,rho,L,n):\n",
    "    print(\"Initial bij(Bottom-Up weights)b=\",b,'\\n')\n",
    "    print(\"Initial tji(Top down weights)t=\",t,'\\n')\n",
    "    for s in inputs:\n",
    "        print(\"S =\",s,'\\n')\n",
    "        norm_s=np.sum(s)\n",
    "        print(\"||S||-->\",norm_s,'\\n')\n",
    "        x=s\n",
    "        y=np.dot(x,b)\n",
    "        print(\"y=bij * x -->\",y)\n",
    "        J=winner(y)\n",
    "        print(\"Winner J=\",J,'\\n')\n",
    "\n",
    "        xi=s*t[J]\n",
    "        print(\"xi =si * tJi =\",xi,'\\n')\n",
    "        norm_xi=np.sum(xi)\n",
    "        print('||xi||-->',norm_xi)\n",
    "        test_reset=norm_xi/norm_s\n",
    "        print(\"||x||/||s||-->\",test_reset,'\\n')\n",
    "        print(\"rho\",rho)\n",
    "        if test_reset >= rho :\n",
    "            print(\"Reset is false\")\n",
    "            for i in range(n):\n",
    "                b[i][J]=(L*xi[i])/((L-1) +norm_xi)\n",
    "                t[J][i]=xi[i]\n",
    "            print(\"bij(new)-->\",b,'\\n')\n",
    "                # print(\"tji(new)--->\",t,'\\n')\n",
    "\n"
   ]
  },
  {
   "cell_type": "code",
   "execution_count": 2,
   "metadata": {},
   "outputs": [],
   "source": [
    "def winner(y):\n",
    "    j=0\n",
    "    for i in range(len(y)):\n",
    "        if y[i]> y[j] :\n",
    "            j=i\n",
    "    return j"
   ]
  },
  {
   "cell_type": "code",
   "execution_count": 3,
   "metadata": {},
   "outputs": [],
   "source": [
    "import numpy as np\n",
    "inputs=np.array([[0,0,0,1],[0,1,0,1],[0,0,1,1],[1,0,0,0]])\n",
    "rho=0.4\n",
    "L=2\n",
    "n=4\n",
    "m=3\n",
    "bottom=1/(1+n)\n",
    "b=np.full((n,m),bottom)\n",
    "t=np.full((m,n),1)\n"
   ]
  },
  {
   "cell_type": "code",
   "execution_count": 4,
   "metadata": {},
   "outputs": [
    {
     "ename": "TypeError",
     "evalue": "train() missing 1 required positional argument: 'n'",
     "output_type": "error",
     "traceback": [
      "\u001b[1;31m---------------------------------------------------------------------------\u001b[0m",
      "\u001b[1;31mTypeError\u001b[0m                                 Traceback (most recent call last)",
      "Cell \u001b[1;32mIn[4], line 1\u001b[0m\n\u001b[1;32m----> 1\u001b[0m train(inputs,b,t,L,n)\n",
      "\u001b[1;31mTypeError\u001b[0m: train() missing 1 required positional argument: 'n'"
     ]
    }
   ],
   "source": [
    "train(inputs,b,t,L,n)"
   ]
  },
  {
   "cell_type": "code",
   "execution_count": 8,
   "metadata": {},
   "outputs": [
    {
     "name": "stdout",
     "output_type": "stream",
     "text": [
      "[[0.  1.  0.2]\n",
      " [0.  0.  0.2]\n",
      " [0.  0.  0.2]\n",
      " [1.  0.  0.2]]\n",
      "[[0 0 0 1]\n",
      " [1 0 0 0]\n",
      " [1 1 1 1]]\n"
     ]
    }
   ],
   "source": [
    "print(b)\n",
    "print(t)"
   ]
  },
  {
   "cell_type": "code",
   "execution_count": 9,
   "metadata": {},
   "outputs": [
    {
     "data": {
      "text/plain": [
       "array([[0. , 1. , 0.2],\n",
       "       [0. , 0. , 0.2],\n",
       "       [0. , 0. , 0.2],\n",
       "       [1. , 0. , 0.2]])"
      ]
     },
     "execution_count": 9,
     "metadata": {},
     "output_type": "execute_result"
    }
   ],
   "source": [
    "b"
   ]
  },
  {
   "cell_type": "code",
   "execution_count": 23,
   "metadata": {},
   "outputs": [],
   "source": [
    "def train(inputs,b,t,rho,L,n):\n",
    "    print(\"Initial bij-->\",b,'\\n')\n",
    "    print(\"Initial tji--->\",t,'\\n')\n",
    "    for s in inputs:\n",
    "        print(\"s--->\",s)\n",
    "        norm_s=np.sum(s)\n",
    "        x=s\n",
    "        y=np.dot(x,b)\n",
    "        print(\"y=x[i]*bij--->\",y,'\\n')\n",
    "        J=winner(y)\n",
    "        print(\"J--->\",J,'\\n')\n",
    "        xi=x*t[J]\n",
    "        norm_xi=np.sum(xi)\n",
    "        print(\"norm_xi ---->\",norm_xi)\n",
    "        test_reset=norm_xi/norm_s\n",
    "        print(\"Test Reset --->\",test_reset)\n",
    "        print(\"Vigilance Parameter--->\",rho)\n",
    "        if test_reset > rho :\n",
    "            print(\"Reset is false\")\n",
    "            for i in range(n):\n",
    "                b[i][J]=L*xi[i]/(L-1+norm_xi)\n",
    "                t[J][i]=xi[i]\n",
    "            print(\"bij(new)--->\",b,'\\n')\n",
    "            print(\"tji(new)--->\",t,'\\n')\n",
    "            \n"
   ]
  },
  {
   "cell_type": "code",
   "execution_count": 24,
   "metadata": {},
   "outputs": [],
   "source": [
    "def winner(y):\n",
    "    j=0\n",
    "    for i in range(len(y)):\n",
    "        if y[i]>y[j]:\n",
    "            j=i\n",
    "    return j"
   ]
  },
  {
   "cell_type": "code",
   "execution_count": 25,
   "metadata": {},
   "outputs": [],
   "source": [
    "import numpy as np\n",
    "inputs=np.array([[0,0,0,1],[0,1,0,1],[0,0,1,1],[1,0,0,0]])\n",
    "rho=0.4\n",
    "L=2\n",
    "n=4\n",
    "m=3\n",
    "bottom=1/(1+n)\n",
    "b=np.full((n,m),bottom)\n",
    "t=np.full((m,n),1)"
   ]
  },
  {
   "cell_type": "code",
   "execution_count": 26,
   "metadata": {},
   "outputs": [
    {
     "name": "stdout",
     "output_type": "stream",
     "text": [
      "Initial bij--> [[0.2 0.2 0.2]\n",
      " [0.2 0.2 0.2]\n",
      " [0.2 0.2 0.2]\n",
      " [0.2 0.2 0.2]] \n",
      "\n",
      "Initial tji---> [[1 1 1 1]\n",
      " [1 1 1 1]\n",
      " [1 1 1 1]] \n",
      "\n",
      "s---> [0 0 0 1]\n",
      "y=x[i]*bij---> [0.2 0.2 0.2] \n",
      "\n",
      "J---> 0 \n",
      "\n",
      "norm_xi ----> 1\n",
      "Test Reset ---> 1.0\n",
      "Vigilance Parameter---> 0.4\n",
      "Reset is false\n",
      "bij(new)---> [[0.  0.2 0.2]\n",
      " [0.  0.2 0.2]\n",
      " [0.  0.2 0.2]\n",
      " [1.  0.2 0.2]] \n",
      "\n",
      "tji(new)---> [[0 0 0 1]\n",
      " [1 1 1 1]\n",
      " [1 1 1 1]] \n",
      "\n",
      "s---> [0 1 0 1]\n",
      "y=x[i]*bij---> [1.  0.4 0.4] \n",
      "\n",
      "J---> 0 \n",
      "\n",
      "norm_xi ----> 1\n",
      "Test Reset ---> 0.5\n",
      "Vigilance Parameter---> 0.4\n",
      "Reset is false\n",
      "bij(new)---> [[0.  0.2 0.2]\n",
      " [0.  0.2 0.2]\n",
      " [0.  0.2 0.2]\n",
      " [1.  0.2 0.2]] \n",
      "\n",
      "tji(new)---> [[0 0 0 1]\n",
      " [1 1 1 1]\n",
      " [1 1 1 1]] \n",
      "\n",
      "s---> [0 0 1 1]\n",
      "y=x[i]*bij---> [1.  0.4 0.4] \n",
      "\n",
      "J---> 0 \n",
      "\n",
      "norm_xi ----> 1\n",
      "Test Reset ---> 0.5\n",
      "Vigilance Parameter---> 0.4\n",
      "Reset is false\n",
      "bij(new)---> [[0.  0.2 0.2]\n",
      " [0.  0.2 0.2]\n",
      " [0.  0.2 0.2]\n",
      " [1.  0.2 0.2]] \n",
      "\n",
      "tji(new)---> [[0 0 0 1]\n",
      " [1 1 1 1]\n",
      " [1 1 1 1]] \n",
      "\n",
      "s---> [1 0 0 0]\n",
      "y=x[i]*bij---> [0.  0.2 0.2] \n",
      "\n",
      "J---> 1 \n",
      "\n",
      "norm_xi ----> 1\n",
      "Test Reset ---> 1.0\n",
      "Vigilance Parameter---> 0.4\n",
      "Reset is false\n",
      "bij(new)---> [[0.  1.  0.2]\n",
      " [0.  0.  0.2]\n",
      " [0.  0.  0.2]\n",
      " [1.  0.  0.2]] \n",
      "\n",
      "tji(new)---> [[0 0 0 1]\n",
      " [1 0 0 0]\n",
      " [1 1 1 1]] \n",
      "\n"
     ]
    }
   ],
   "source": [
    "train(inputs,b,t,rho,L,n)"
   ]
  },
  {
   "cell_type": "code",
   "execution_count": null,
   "metadata": {},
   "outputs": [],
   "source": []
  }
 ],
 "metadata": {
  "kernelspec": {
   "display_name": "base",
   "language": "python",
   "name": "python3"
  },
  "language_info": {
   "codemirror_mode": {
    "name": "ipython",
    "version": 3
   },
   "file_extension": ".py",
   "mimetype": "text/x-python",
   "name": "python",
   "nbconvert_exporter": "python",
   "pygments_lexer": "ipython3",
   "version": "3.11.7"
  }
 },
 "nbformat": 4,
 "nbformat_minor": 2
}
