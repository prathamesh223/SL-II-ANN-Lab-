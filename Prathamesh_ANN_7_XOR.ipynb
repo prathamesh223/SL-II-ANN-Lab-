{
 "cells": [
  {
   "cell_type": "code",
   "execution_count": 2,
   "id": "730617b1-8aa4-4da3-a713-2e61cc093ab9",
   "metadata": {},
   "outputs": [],
   "source": [
    "import numpy as np"
   ]
  },
  {
   "cell_type": "code",
   "execution_count": 3,
   "id": "54a491a5-ab37-4ae8-affb-4dae2153e693",
   "metadata": {},
   "outputs": [],
   "source": [
    "import numpy as np\n",
    "\n",
    "class ANN:  # Correction: Changed class name from XOR to ANN\n",
    "    def __init__(self, input_size, hidden_size, output_size, learning_rate):\n",
    "        self.input_size = input_size\n",
    "        self.hidden_size = hidden_size\n",
    "        self.output_size = output_size\n",
    "        self.learning_rate = learning_rate\n",
    "        \n",
    "        # Initialize weights and biases\n",
    "        self.Vij = np.random.uniform(-0.5, 0.5, (self.input_size, self.hidden_size)) # Weights from input to hidden layer\n",
    "        self.Wjk = np.random.uniform(-0.5, 0.5, (self.hidden_size, self.output_size)) # Weights from hidden to output layer\n",
    "        \n",
    "        self.Vbj = np.random.uniform(-0.5, 0.5, (1, self.hidden_size)) # Hidden layer bias\n",
    "        self.Wbk = np.random.uniform(-0.5, 0.5, (1, self.output_size)) # Output layer bias\n",
    "        \n",
    "    def sigmoid(self, x):\n",
    "        return 1 / (1 + np.exp(-x))\n",
    "     \n",
    "    def sigmoid_derivative(self, x):\n",
    "        return x * (1 - x)\n",
    "    \n",
    "    def forward_prop(self, x):  # Correction: Changed function name to use underscores\n",
    "        self.hidden_input = np.dot(x, self.Vij) + self.Vbj # Weighted sum of inputs to the hidden layer\n",
    "        self.hidden_output = self.sigmoid(self.hidden_input) # Output of the hidden layer\n",
    "        \n",
    "        self.output_layer_input = np.dot(self.hidden_output, self.Wjk) + self.Wbk\n",
    "        self.output_layer_output = self.sigmoid(self.output_layer_input)\n",
    "        \n",
    "        return self.output_layer_output\n",
    "    \n",
    "    def backprop(self, x, y, output):  # Correction: Changed function name to use underscores\n",
    "        error = y - output\n",
    "        delta_K = error * self.sigmoid_derivative(output)\n",
    "        \n",
    "        delta_in = delta_K.dot(self.Wjk.T)\n",
    "        delta_J = delta_in * self.sigmoid_derivative(self.hidden_output)\n",
    "        \n",
    "        # Weight adjustment between hidden and output layers\n",
    "        self.Wjk += self.hidden_output.T.dot(delta_K) * self.learning_rate\n",
    "         \n",
    "        # Calculate new bias value for the output layer\n",
    "        self.Wbk += np.sum(delta_K) * self.learning_rate\n",
    "         \n",
    "        # Weight adjustment between input and hidden layers\n",
    "        self.Vij += x.T.dot(delta_J) * self.learning_rate\n",
    "        \n",
    "        # Calculate new bias value for the hidden layer\n",
    "        self.Vbj += np.sum(delta_J) * self.learning_rate\n",
    "        \n",
    "    def train(self, x, y, epochs):\n",
    "        for epoch in range(epochs):\n",
    "            output = self.forward_prop(x)\n",
    "            self.backprop(x, y, output)\n",
    "            if epoch % 1000 == 0:\n",
    "                print(f'Epoch {epoch}: Error {np.mean(np.abs(y - output))}')\n"
   ]
  },
  {
   "cell_type": "code",
   "execution_count": 6,
   "id": "9dfc6d05-30d5-40a9-a313-8c270593190c",
   "metadata": {},
   "outputs": [
    {
     "name": "stdout",
     "output_type": "stream",
     "text": [
      "Epoch 0: Error 0.4999476183584607\n",
      "Epoch 1000: Error 0.49984251334754737\n",
      "Epoch 2000: Error 0.49958075977571215\n",
      "Epoch 3000: Error 0.49833296523379955\n",
      "Epoch 4000: Error 0.4827838520754181\n",
      "Epoch 5000: Error 0.2805027682858174\n",
      "Epoch 6000: Error 0.13951096378884625\n",
      "Epoch 7000: Error 0.09718889307815115\n",
      "Epoch 8000: Error 0.07735637755422278\n",
      "Epoch 9000: Error 0.06563061892321786\n",
      "\n",
      "Predictions after training:\n",
      "\n",
      "Input: [x1|x2]\t    Predicted XOR\t Approx output XOR\n",
      "\t[0 0]----->[[0.06286848]]------------>[0]\n",
      "\t[0 1]----->[[0.94500756]]------------>[1]\n",
      "\t[1 0]----->[[0.94474864]]------------>[1]\n",
      "\t[1 1]----->[[0.05794067]]------------>[0]\n"
     ]
    }
   ],
   "source": [
    "# Training\n",
    "# Create neural network and  train it using the training data X & y\n",
    "input_size = 2\n",
    "hidden_size =4\n",
    "output_size = 1\n",
    "learning_rate = 0.1\n",
    "epochs = 10000\n",
    "\n",
    "x = np.array([[0,0],[0,1],[1,0],[1,1]])  # I/P\n",
    "y = np.array([[0],[1],[1],[0]])    # O/P\n",
    "\n",
    "obj_ANN = ANN(input_size, hidden_size, output_size, learning_rate)\n",
    "obj_ANN.train(x, y, epochs)\n",
    "\n",
    "# Testing\n",
    "print(\"\\nPredictions after training:\\n\")\n",
    "print(f\"Input: [x1|x2]\\t    Predicted XOR\\t Approx output XOR\")\n",
    "\n",
    "for i in range(len(x)):\n",
    "    res = obj_ANN.forward_prop(x[i])\n",
    "    print(f\"\\t{x[i]}----->{(res)}------------>{y[i]}\")"
   ]
  },
  {
   "cell_type": "code",
   "execution_count": null,
   "id": "96c7627f",
   "metadata": {},
   "outputs": [],
   "source": []
  }
 ],
 "metadata": {
  "kernelspec": {
   "display_name": "Python 3 (ipykernel)",
   "language": "python",
   "name": "python3"
  },
  "language_info": {
   "codemirror_mode": {
    "name": "ipython",
    "version": 3
   },
   "file_extension": ".py",
   "mimetype": "text/x-python",
   "name": "python",
   "nbconvert_exporter": "python",
   "pygments_lexer": "ipython3",
   "version": "3.11.7"
  }
 },
 "nbformat": 4,
 "nbformat_minor": 5
}
