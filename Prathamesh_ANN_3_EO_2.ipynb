{
 "cells": [
  {
   "cell_type": "code",
   "execution_count": 13,
   "metadata": {},
   "outputs": [],
   "source": [
    "import numpy as np"
   ]
  },
  {
   "cell_type": "code",
   "execution_count": 14,
   "metadata": {},
   "outputs": [],
   "source": [
    "class Even:\n",
    "    def __init__(self,input_size):\n",
    "        self.weights=np.random.random(input_size)\n",
    "        self.bias=0\n",
    "    def perceptron(self,inputs):\n",
    "        weighted_sum=np.dot(inputs,self.weights)\n",
    "        return 1 if weighted_sum >0 else 0\n",
    "    def train_model(self,training_data,labels,learning_rate,epochs):\n",
    "        for epoch in range(epochs):\n",
    "            for inputs,label in zip(training_data,labels):\n",
    "                output=self.perceptron(inputs)\n",
    "                error=label - output\n",
    "                self.weights+=learning_rate*error*inputs\n",
    "                self.bias+=learning_rate*error"
   ]
  },
  {
   "cell_type": "code",
   "execution_count": 15,
   "metadata": {},
   "outputs": [],
   "source": [
    "def ascii_to_binary(ascii_value):\n",
    "    binary_rep=format(ascii_value,'08b')\n",
    "    print(binary_rep)\n",
    "    return [int(bit) for bit in binary_rep]"
   ]
  },
  {
   "cell_type": "code",
   "execution_count": 16,
   "metadata": {},
   "outputs": [
    {
     "name": "stdout",
     "output_type": "stream",
     "text": [
      "Ascii Value--> 48\n",
      "00110000\n",
      "Ascii Value--> 49\n",
      "00110001\n",
      "Ascii Value--> 50\n",
      "00110010\n",
      "Ascii Value--> 51\n",
      "00110011\n",
      "Ascii Value--> 52\n",
      "00110100\n",
      "Ascii Value--> 53\n",
      "00110101\n",
      "Ascii Value--> 54\n",
      "00110110\n",
      "Ascii Value--> 55\n",
      "00110111\n",
      "Ascii Value--> 56\n",
      "00111000\n",
      "Ascii Value--> 57\n",
      "00111001\n"
     ]
    }
   ],
   "source": [
    "training_data=[]\n",
    "labels=[]\n",
    "for i in range(10):\n",
    "    ascii_value=ord(str(i))\n",
    "    print(\"Ascii Value-->\",ascii_value)\n",
    "    binary_rep=ascii_to_binary(ascii_value)\n",
    "    training_data.append(binary_rep)\n",
    "    labels.append(i % 2)"
   ]
  },
  {
   "cell_type": "code",
   "execution_count": 17,
   "metadata": {},
   "outputs": [],
   "source": [
    "input_size=8\n",
    "obj=Even(input_size)\n",
    "learning_rate=0.1\n",
    "epochs=1000\n",
    "obj.train_model(np.array(training_data), np.array(labels), learning_rate, epochs)\n"
   ]
  },
  {
   "cell_type": "code",
   "execution_count": 22,
   "metadata": {},
   "outputs": [],
   "source": [
    "def ip():\n",
    "    while(True):\n",
    "        test_number=int(input(\"Enter Number: \"))\n",
    "        if test_number > 9 :\n",
    "            break\n",
    "        test_in_bin=np.array(ascii_to_binary(ord(str(test_number))))\n",
    "        output=obj.perceptron(test_in_bin)\n",
    "        print(f\"The Perceptron Predicts {test_number} is {'odd'if output ==1 else 'Even' }.\")\n"
   ]
  },
  {
   "cell_type": "code",
   "execution_count": 23,
   "metadata": {},
   "outputs": [
    {
     "name": "stdout",
     "output_type": "stream",
     "text": [
      "00110001\n",
      "The Perceptron Predicts 1 is odd.\n",
      "00110010\n",
      "The Perceptron Predicts 2 is Even.\n",
      "00110100\n",
      "The Perceptron Predicts 4 is Even.\n",
      "00111000\n",
      "The Perceptron Predicts 8 is Even.\n",
      "00111001\n",
      "The Perceptron Predicts 9 is odd.\n"
     ]
    }
   ],
   "source": [
    "ip()"
   ]
  },
  {
   "cell_type": "code",
   "execution_count": null,
   "metadata": {},
   "outputs": [],
   "source": []
  }
 ],
 "metadata": {
  "kernelspec": {
   "display_name": "base",
   "language": "python",
   "name": "python3"
  },
  "language_info": {
   "codemirror_mode": {
    "name": "ipython",
    "version": 3
   },
   "file_extension": ".py",
   "mimetype": "text/x-python",
   "name": "python",
   "nbconvert_exporter": "python",
   "pygments_lexer": "ipython3",
   "version": "3.11.7"
  }
 },
 "nbformat": 4,
 "nbformat_minor": 2
}
